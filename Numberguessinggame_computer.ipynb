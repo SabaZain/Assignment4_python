{
  "nbformat": 4,
  "nbformat_minor": 0,
  "metadata": {
    "colab": {
      "provenance": [],
      "authorship_tag": "ABX9TyOqvL/EXicpiZyKK7LkcESS",
      "include_colab_link": true
    },
    "kernelspec": {
      "name": "python3",
      "display_name": "Python 3"
    },
    "language_info": {
      "name": "python"
    }
  },
  "cells": [
    {
      "cell_type": "markdown",
      "metadata": {
        "id": "view-in-github",
        "colab_type": "text"
      },
      "source": [
        "<a href=\"https://colab.research.google.com/github/SabaZain/Assignment4_python/blob/master/Numberguessinggame_computer.ipynb\" target=\"_parent\"><img src=\"https://colab.research.google.com/assets/colab-badge.svg\" alt=\"Open In Colab\"/></a>"
      ]
    },
    {
      "cell_type": "code",
      "execution_count": null,
      "metadata": {
        "colab": {
          "base_uri": "https://localhost:8080/"
        },
        "id": "jQ7-FDECvj6_",
        "outputId": "2fd4b7f9-3566-4dc7-f8e1-8a31adf84324"
      },
      "outputs": [
        {
          "output_type": "stream",
          "name": "stdout",
          "text": [
            "------Welcome To The Number Guessing Game------\n",
            "I am thinking and guessing a number between 1 to 100\n",
            "\n",
            "You have 6 guesses left.\n",
            "Take a guess of another number:4\n",
            "Your guess is: 4\n",
            "Too low number. Guess another!\n",
            "\n",
            "You have 5 guesses left.\n",
            "Take a guess of another number:50\n",
            "Your guess is: 50\n",
            "Too high number. Guess another!\n",
            "\n",
            "You have 4 guesses left.\n",
            "Take a guess of another number:30\n",
            "Your guess is: 30\n",
            "Too low number. Guess another!\n",
            "\n",
            "You have 3 guesses left.\n",
            "Take a guess of another number:40\n",
            "Your guess is: 40\n",
            "Too high number. Guess another!\n",
            "\n",
            "You have 2 guesses left.\n",
            "Take a guess of another number:35\n",
            "Your guess is: 35\n",
            "Too low number. Guess another!\n",
            "\n",
            "You have 1 guesses left.\n",
            "Take a guess of another number:38\n",
            "Your guess is: 38\n",
            "Too high number. Guess another!\n",
            "\n",
            "You ran out of guess. The number was 36.\n"
          ]
        }
      ],
      "source": [
        "# Guess the number game by computer\n",
        "# 1 to 100\n",
        "\n",
        "import random\n",
        "\n",
        "def guess_the_number():\n",
        "    \"\"\"Guess the number game by computer\"\"\"\n",
        "    number = random.randint(1, 100)\n",
        "    guesses_left = 6\n",
        "\n",
        "    # Welcome Message\n",
        "    print(\"------Welcome To The Number Guessing Game------\")\n",
        "    print(\"I am thinking and guessing a number between 1 to 100\")\n",
        "\n",
        "    #generated loop\n",
        "    while guesses_left > 0:\n",
        "        print(f\"\\nYou have {guesses_left} guesses left.\")\n",
        "        try:\n",
        "            guess = int(input(\"Take a guess of another number:\"))\n",
        "        except ValueError:\n",
        "            print(\"Invalid input: Please enter a number.\")\n",
        "            continue\n",
        "        print(f\"Your guess is: {guess}\")\n",
        "\n",
        "        #guess the secret number\n",
        "        if guess < number:\n",
        "            print(\"Too low number. Guess another!\")\n",
        "        elif guess > number:\n",
        "           print(\"Too high number. Guess another!\")\n",
        "        else:\n",
        "            print(f\"Congratulations! You guessed the Correct number in {6 - guesses_left + 1} tries.\")\n",
        "            return\n",
        "        guesses_left -= 1\n",
        "\n",
        "    # When all guesses finished\n",
        "    print(f\"\\nYou ran out of guess. The number was {number}.\")\n",
        "\n",
        "guess_the_number()"
      ]
    }
  ]
}