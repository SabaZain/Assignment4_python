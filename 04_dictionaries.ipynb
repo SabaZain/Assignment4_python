{
  "nbformat": 4,
  "nbformat_minor": 0,
  "metadata": {
    "colab": {
      "provenance": [],
      "authorship_tag": "ABX9TyMb3NmzPTWCnEA0GRDmJb/b",
      "include_colab_link": true
    },
    "kernelspec": {
      "name": "python3",
      "display_name": "Python 3"
    },
    "language_info": {
      "name": "python"
    }
  },
  "cells": [
    {
      "cell_type": "markdown",
      "metadata": {
        "id": "view-in-github",
        "colab_type": "text"
      },
      "source": [
        "<a href=\"https://colab.research.google.com/github/SabaZain/Assignment4_python/blob/master/04_dictionaries.ipynb\" target=\"_parent\"><img src=\"https://colab.research.google.com/assets/colab-badge.svg\" alt=\"Open In Colab\"/></a>"
      ]
    },
    {
      "cell_type": "code",
      "execution_count": null,
      "metadata": {
        "colab": {
          "base_uri": "https://localhost:8080/"
        },
        "id": "v6dBdQPGde9-",
        "outputId": "5061616a-9fba-429f-d34f-dac581aea829"
      },
      "outputs": [
        {
          "output_type": "stream",
          "name": "stdout",
          "text": [
            "Count Numbers!\n",
            "Enter a number (or 'Exit' to quit): 3\n",
            "{3: 1}\n",
            "Enter a number (or 'Exit' to quit): 3\n",
            "{3: 2}\n",
            "Enter a number (or 'Exit' to quit): 5\n",
            "{3: 2, 5: 1}\n",
            "Enter a number (or 'Exit' to quit): 8\n",
            "{3: 2, 5: 1, 8: 1}\n",
            "Enter a number (or 'Exit' to quit): 4\n",
            "{3: 2, 5: 1, 8: 1, 4: 1}\n",
            "Enter a number (or 'Exit' to quit): 2\n",
            "{3: 2, 5: 1, 8: 1, 4: 1, 2: 1}\n",
            "Enter a number (or 'Exit' to quit): 2\n",
            "{3: 2, 5: 1, 8: 1, 4: 1, 2: 2}\n",
            "Enter a number (or 'Exit' to quit): exit\n",
            "Invalid input\n",
            "Number Counts:\n",
            "3 appears 2 times\n",
            "5 appears 1 times\n",
            "8 appears 1 times\n",
            "4 appears 1 times\n",
            "2 appears 2 times\n"
          ]
        }
      ],
      "source": [
        "# 1. Python program that counts the number of times each number appears in a list.\n",
        "print(\"Count Numbers!\")\n",
        "def count_numbers():\n",
        "  count_dict = {}\n",
        "\n",
        "  while True:\n",
        "    number = input(\"Enter a number (or 'Exit' to quit): \")\n",
        "    if number.lower() == 'Exit':\n",
        "      break\n",
        "    if number.isdigit():\n",
        "      number = int(number)\n",
        "      count_dict[number] = count_dict.get(number, 0) + 1\n",
        "      print(count_dict)\n",
        "    else:\n",
        "      print(\"Invalid input\")\n",
        "      return count_dict\n",
        "def display_counts(count_dict):\n",
        "  print(\"Number Counts:\")\n",
        "  for key,value in count_dict.items():\n",
        "    print(f\"{key} appears {value} times\")\n",
        "\n",
        "if __name__ == \"__main__\":\n",
        "  count = count_numbers()\n",
        "  display_counts(count)"
      ]
    },
    {
      "cell_type": "code",
      "source": [
        "# 2. Python program Phonebook\n",
        "print(\"Phone Book!\")\n",
        "\n",
        "def contacts_add(phonebook):\n",
        "  name = input(\"Enter name: \")\n",
        "  number = input(\"Enter number: \")\n",
        "\n",
        "  if name in phonebook:\n",
        "    print(f\"Mr/Mrs {name} already exists in phonebook.\")\n",
        "  else:\n",
        "    print(f\"Mr/Mrs {name} added to the phonebook.\")\n",
        "\n",
        "def contacts_search(phonebook):\n",
        "  name = input(\"Enter name to search in phonebook:\")\n",
        "  if name in phonebook:\n",
        "    print(f\"Mr/Mrs {name} : {phonebook[name]}\")\n",
        "  else:\n",
        "    print(f\"Mr/Mrs {name} not found in the phonebook.\")\n",
        "\n",
        "def contacts_delete(phonebook):\n",
        "  name = input(\"Enter name to delete from phonebook.\")\n",
        "  if name in phonebook:\n",
        "    del phonebook[name]\n",
        "    print(f\"Mr/Mrs {name} deleted from the phonebook\")\n",
        "  else:\n",
        "    print(f\"Mr/Mrs {name} not found in the phonebook.\")\n",
        "\n",
        "def contacts_display(phonebook):\n",
        "  if phonebook:\n",
        "    print(\"Contact List...\")\n",
        "    for name,number in phonebook.items():\n",
        "      print(f\"Mr/Mrs {name} : {number}\")\n",
        "  else:\n",
        "    print(\"Phonebook is empty.\")\n",
        "\n",
        "if __name__ == \"__main__\":\n",
        "  phonebook = {}\n",
        "\n",
        "  while True:\n",
        "    print(\"\\nPhonebook Menu:\")\n",
        "    print(\"1. Add Contact\")\n",
        "    print(\"2. Search Contact\")\n",
        "    print(\"3. Delete Contact\")\n",
        "    print(\"4. Display Contacts\")\n",
        "    print(\"5. Exit\")\n",
        "\n",
        "    choice = input(\"Enter your choice(1 to 5): \")\n",
        "\n",
        "    if choice == '1':\n",
        "      contacts_add(phonebook)\n",
        "    elif choice == '2':\n",
        "      contacts_search(phonebook)\n",
        "    elif choice == '3':\n",
        "      contacts_delete(phonebook)\n",
        "    elif choice == '4':\n",
        "      contacts_display(phonebook)\n",
        "    elif choice == '5':\n",
        "      print(\"Exiting Phonebook...\")\n",
        "      break\n",
        "    else:\n",
        "      print(\"Invalid choice. Please try again.\")\n"
      ],
      "metadata": {
        "colab": {
          "base_uri": "https://localhost:8080/"
        },
        "id": "ZmXixG65jlya",
        "outputId": "8299e2e5-76f3-48b1-ec18-340024849103"
      },
      "execution_count": null,
      "outputs": [
        {
          "output_type": "stream",
          "name": "stdout",
          "text": [
            "Phone Book!\n",
            "\n",
            "Phonebook Menu:\n",
            "1. Add Contact\n",
            "2. Search Contact\n",
            "3. Delete Contact\n",
            "4. Display Contacts\n",
            "5. Exit\n",
            "Enter your choice(1 to 5): 4\n",
            "Phonebook is empty.\n",
            "\n",
            "Phonebook Menu:\n",
            "1. Add Contact\n",
            "2. Search Contact\n",
            "3. Delete Contact\n",
            "4. Display Contacts\n",
            "5. Exit\n",
            "Enter your choice(1 to 5): 1\n",
            "Enter name: Rafay\n",
            "Enter number: 0344678767\n",
            "Mr/Mrs Rafay added to the phonebook.\n",
            "\n",
            "Phonebook Menu:\n",
            "1. Add Contact\n",
            "2. Search Contact\n",
            "3. Delete Contact\n",
            "4. Display Contacts\n",
            "5. Exit\n",
            "Enter your choice(1 to 5): Sania\n",
            "Invalid choice. Please try again.\n",
            "\n",
            "Phonebook Menu:\n",
            "1. Add Contact\n",
            "2. Search Contact\n",
            "3. Delete Contact\n",
            "4. Display Contacts\n",
            "5. Exit\n",
            "Enter your choice(1 to 5): 1\n",
            "Enter name: Sania\n",
            "Enter number: 0344786754\n",
            "Mr/Mrs Sania added to the phonebook.\n",
            "\n",
            "Phonebook Menu:\n",
            "1. Add Contact\n",
            "2. Search Contact\n",
            "3. Delete Contact\n",
            "4. Display Contacts\n",
            "5. Exit\n",
            "Enter your choice(1 to 5): 3\n",
            "Enter name to delete from phonebook.Sania\n",
            "Mr/Mrs Sania not found in the phonebook.\n",
            "\n",
            "Phonebook Menu:\n",
            "1. Add Contact\n",
            "2. Search Contact\n",
            "3. Delete Contact\n",
            "4. Display Contacts\n",
            "5. Exit\n",
            "Enter your choice(1 to 5): 5\n",
            "Exiting Phonebook...\n"
          ]
        }
      ]
    },
    {
      "cell_type": "code",
      "source": [
        "# 3. Pop up shop\n",
        "print(\"Pop Up Shop!\")\n",
        "\n",
        "def total_price():\n",
        "  fruits_price = {\n",
        "      \"Mango\":30,\n",
        "      \"Banana\":10,\n",
        "      \"Strawberry\":30,\n",
        "      \"Pineapple\":30,\n",
        "      \"Watermelon\":40,\n",
        "      \"Apple\":12\n",
        "  }\n",
        "\n",
        "  total_price = 0\n",
        "  for fruit,price in fruits_price.items():\n",
        "    while True:\n",
        "      try:\n",
        "        quantity = int(input(f\"How many {fruit} do you want?: \"))\n",
        "        if quantity < 0:\n",
        "          print(\"Invalid Input!\")\n",
        "          continue\n",
        "        total_price += price * quantity\n",
        "        break\n",
        "      except ValueError:\n",
        "        print(\"Invalid Input!\")\n",
        "    print(f\"Your total price is: ${total_price:.2f}\")\n",
        "\n",
        "if __name__ == \"__main__\":\n",
        "  total_price()"
      ],
      "metadata": {
        "colab": {
          "base_uri": "https://localhost:8080/"
        },
        "id": "SRC4IrWxt0m9",
        "outputId": "034c42fd-96f3-4578-ae78-e299235fba8f"
      },
      "execution_count": null,
      "outputs": [
        {
          "output_type": "stream",
          "name": "stdout",
          "text": [
            "Pop Up Shop!\n",
            "How many Mango do you want?: 2\n",
            "Your total price is: $60.00\n",
            "How many Banana do you want?: 1\n",
            "Your total price is: $70.00\n",
            "How many Strawberry do you want?: 2\n",
            "Your total price is: $130.00\n",
            "How many Pineapple do you want?: 1\n",
            "Your total price is: $160.00\n",
            "How many Watermelon do you want?: 2\n",
            "Your total price is: $240.00\n",
            "How many Apple do you want?: 2\n",
            "Your total price is: $264.00\n"
          ]
        }
      ]
    },
    {
      "cell_type": "code",
      "source": [
        "# 4. Powerfull Password\n",
        "import hashlib\n",
        "print(\"Powerfull Password!\")\n",
        "\n",
        "def hash_password(password):\n",
        "  return hashlib.sha256(password.encode()).hexdigest()\n",
        "\n",
        "stored_logins = {\n",
        "    \"user1\": hash_password(\"password1\"),\n",
        "    \"user2\": hash_password(\"password2\"),\n",
        "  }\n",
        "\n",
        "def login(email,password):\n",
        "  hashed_password = hash_password(password)\n",
        "  if email in stored_logins:\n",
        "    return stored_logins[email] == hashed_password\n",
        "  return False\n",
        "\n",
        "if __name__ == \"__main__\":\n",
        "  email = input(\"Enter your email: \")\n",
        "  password = input(\"Enter your password: \")\n",
        "\n",
        "  if login(email,password):\n",
        "    print(\"Login Successful!\")\n",
        "  else:\n",
        "    print(\"Login Failed! Invalid email or password.\")"
      ],
      "metadata": {
        "id": "VRUv2MJbxsFG",
        "colab": {
          "base_uri": "https://localhost:8080/"
        },
        "outputId": "f62c9fa7-1bd6-4554-a711-fc42e0f2ca13"
      },
      "execution_count": null,
      "outputs": [
        {
          "output_type": "stream",
          "name": "stdout",
          "text": [
            "Powerfull Password!\n",
            "Enter your email: saba_punjwani@yahoo.com\n",
            "Enter your password: saba1234\n",
            "Login Failed! Invalid email or password.\n"
          ]
        }
      ]
    }
  ]
}