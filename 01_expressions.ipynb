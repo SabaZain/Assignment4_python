{
  "nbformat": 4,
  "nbformat_minor": 0,
  "metadata": {
    "colab": {
      "provenance": [],
      "authorship_tag": "ABX9TyMbuJ5bJyvE4NjqYa534BZF",
      "include_colab_link": true
    },
    "kernelspec": {
      "name": "python3",
      "display_name": "Python 3"
    },
    "language_info": {
      "name": "python"
    }
  },
  "cells": [
    {
      "cell_type": "markdown",
      "metadata": {
        "id": "view-in-github",
        "colab_type": "text"
      },
      "source": [
        "<a href=\"https://colab.research.google.com/github/SabaZain/Assignment4_python/blob/master/01_expressions.ipynb\" target=\"_parent\"><img src=\"https://colab.research.google.com/assets/colab-badge.svg\" alt=\"Open In Colab\"/></a>"
      ]
    },
    {
      "cell_type": "code",
      "execution_count": null,
      "metadata": {
        "colab": {
          "base_uri": "https://localhost:8080/"
        },
        "id": "pq0nDymXjbQO",
        "outputId": "f2e3031f-746c-41ae-92ae-8bf6e1bd402f"
      },
      "outputs": [
        {
          "output_type": "stream",
          "name": "stdout",
          "text": [
            "This program simulates rolling two dice.\n",
            "die1 in main() start as: 10\n",
            "Total of two dies: 8\n",
            "Total of two dies: 5\n",
            "Total of two dies: 12\n",
            "die1 in main() is: 10\n"
          ]
        }
      ],
      "source": [
        "from os import name\n",
        "# 1. Simulate rolling two dice, three times.Print results of each die roll.This program is used to show how variable scope works.\n",
        "\n",
        "import random\n",
        "print(\"This program simulates rolling two dice.\")\n",
        "\n",
        "def roll_dice():\n",
        "  die1:int = random.randint(1,6)\n",
        "  die2:int = random.randint(1,6)\n",
        "  total:int = die1 + die2\n",
        "  print(f\"Total of two dies: {total}\")\n",
        "\n",
        "def main():\n",
        "  die1:int = 10\n",
        "  print(\"die1 in main() start as: \" + str(die1))\n",
        "  roll_dice()\n",
        "  roll_dice()\n",
        "  roll_dice()\n",
        "  print(\"die1 in main() is: \" + str(die1))\n",
        "\n",
        "if __name__ == \"__main__\":\n",
        "  main()\n"
      ]
    },
    {
      "cell_type": "code",
      "source": [
        "# 2. print(\"e=mc2\")\n",
        "print(\"e=mc2\")\n",
        "def energy():\n",
        "  c:float = 299792458\n",
        "  m:float = float(input(\"Enter kilos of mass: \"))\n",
        "  print(\"e = m*c^2\")\n",
        "  print(\"Mass = \" + str(m) + \" kg \")\n",
        "  print(\"C = \" + str(c) + \" m/s \")\n",
        "  e:float = m*c**2\n",
        "  print(\"Energy = \" + str(e) + \" J \")\n",
        "\n",
        "if __name__ == \"__main__\":\n",
        "  energy()"
      ],
      "metadata": {
        "colab": {
          "base_uri": "https://localhost:8080/"
        },
        "id": "mMSiPWLEosUF",
        "outputId": "62f5fed8-dcf9-4264-ebb2-8d9032466ec1"
      },
      "execution_count": null,
      "outputs": [
        {
          "output_type": "stream",
          "name": "stdout",
          "text": [
            "e=mc2\n",
            "Enter kilos of mass: 30\n",
            "e = m*c^2\n",
            "Mass = 30.0 kg \n",
            "C = 299792458 m/s \n",
            "Energy = 2.696265536210453e+18 J \n"
          ]
        }
      ]
    },
    {
      "cell_type": "code",
      "source": [
        "# 3. Convert feet to inches\n",
        "\n",
        "inches:int = 12\n",
        "\n",
        "def feet_inches():\n",
        "  feet:int = int(input(\"Enter feet: \"))\n",
        "  print(f\"Feet to inches: {inches * feet} inches in {feet} feet.\")\n",
        "\n",
        "if __name__ == \"__main__\":\n",
        "  feet_inches()"
      ],
      "metadata": {
        "colab": {
          "base_uri": "https://localhost:8080/"
        },
        "id": "SrbzP7BvsLXe",
        "outputId": "58428d5d-6d33-463e-af0b-2748cff26a15"
      },
      "execution_count": null,
      "outputs": [
        {
          "output_type": "stream",
          "name": "stdout",
          "text": [
            "Enter feet: 10\n",
            "Feet to inches: 120 inches in 10 feet.\n"
          ]
        }
      ]
    },
    {
      "cell_type": "code",
      "source": [
        "# 4. Python program that asks user for the length of two perpendicular sides of a right triangle and outputs the length of third side.\n",
        "import math\n",
        "print(\"This program finds the length of third side.\")\n",
        "\n",
        "def right_triangle():\n",
        "  ab: float = float(input(\"Enter the length of AB: \"))\n",
        "  ac: float = float(input(\"Enter the length of AC: \"))\n",
        "  bc: float = math.sqrt(ab**2 + ac**2)\n",
        "  print(f\"The length of BC is: {bc:.2f}\")\n",
        "\n",
        "if __name__ == \"__main__\":\n",
        "  right_triangle()"
      ],
      "metadata": {
        "colab": {
          "base_uri": "https://localhost:8080/"
        },
        "id": "vbI0J2N3unRX",
        "outputId": "12a38754-9a12-4b2f-fe75-061e9639ab88"
      },
      "execution_count": null,
      "outputs": [
        {
          "output_type": "stream",
          "name": "stdout",
          "text": [
            "This program finds the length of third side.\n",
            "Enter the length of AB: 6\n",
            "Enter the length of AC: 9\n",
            "The length of BC is: 10.82\n"
          ]
        }
      ]
    },
    {
      "cell_type": "code",
      "source": [
        "# 5. remainder_division\n",
        "\n",
        "def remainder():\n",
        "  first_number:int = int(input(\"Enter the first number: \"))\n",
        "  second_number:int = int(input(\"Enter the second number: \"))\n",
        "  quotient:int = first_number // second_number\n",
        "  remainder:int = first_number % second_number\n",
        "  print(f\"{first_number} divided by {second_number} is {quotient} with remainder {remainder}.\")\n",
        "\n",
        "if __name__ == \"__main__\":\n",
        "  remainder()"
      ],
      "metadata": {
        "colab": {
          "base_uri": "https://localhost:8080/"
        },
        "id": "6xdJCC-cyX1X",
        "outputId": "fd5fe6d2-a770-40d8-fd13-f6df844ae424"
      },
      "execution_count": null,
      "outputs": [
        {
          "output_type": "stream",
          "name": "stdout",
          "text": [
            "Enter the first number: 10\n",
            "Enter the second number: 2\n",
            "10 divided by 2 is 5 with remainder 0.\n"
          ]
        }
      ]
    },
    {
      "cell_type": "code",
      "source": [
        "# 6. roll_dice\n",
        "\n",
        "import random\n",
        "print(\"This program simulates rolling two dice.\")\n",
        "def roll_dice():\n",
        "  die1:int = random.randint(1,6)\n",
        "  die2:int = random.randint(1,6)\n",
        "  total:int = die1 + die2\n",
        "  print(\"First die: \" + str(die1))\n",
        "  print(\"Second die: \" + str(die2))\n",
        "  print(f\"Total of two dies: {total}\")\n",
        "\n",
        "if __name__ == \"__main__\":\n",
        "  roll_dice()"
      ],
      "metadata": {
        "colab": {
          "base_uri": "https://localhost:8080/"
        },
        "id": "QA2Yh6N_zsnQ",
        "outputId": "848091f3-2419-4ea2-ec0e-b2249b55e779"
      },
      "execution_count": null,
      "outputs": [
        {
          "output_type": "stream",
          "name": "stdout",
          "text": [
            "This program simulates rolling two dice.\n",
            "First die: 4\n",
            "Second die: 6\n",
            "Total of two dies: 10\n"
          ]
        }
      ]
    },
    {
      "cell_type": "code",
      "source": [
        "# 6. seconds_in_year\n",
        "\n",
        "print(\"This program calculates seconds in year.\")\n",
        "\n",
        "def seconds_in_year():\n",
        "  seconds_in_minute:int = 60\n",
        "  minutes_in_hour:int = 60\n",
        "  hours_in_day:int = 24\n",
        "  days_in_year:int = 365\n",
        "  print(f\"There are {seconds_in_minute * minutes_in_hour * hours_in_day * days_in_year} seconds in year.\")\n",
        "\n",
        "if __name__ == \"__main__\":\n",
        "  seconds_in_year()"
      ],
      "metadata": {
        "colab": {
          "base_uri": "https://localhost:8080/"
        },
        "id": "vYTD-Zfc1iNX",
        "outputId": "cca8161f-ca25-43ef-9d10-0310f6b6512c"
      },
      "execution_count": null,
      "outputs": [
        {
          "output_type": "stream",
          "name": "stdout",
          "text": [
            "This program calculates seconds in year.\n",
            "There are 31536000 seconds in year.\n"
          ]
        }
      ]
    },
    {
      "cell_type": "code",
      "source": [
        "# 7. Python program which prompts the user for an adjective, then a noun, then a verb and prints a fun sentence with those words.\n",
        "print(\"This program prints a fun sentence!\")\n",
        "def fun_sentence():\n",
        "  adjective: str = input(\"Enter an adjective: \")\n",
        "  noun: str = input(\"Enter a noun: \")\n",
        "  verb: str = input(\"Enter a verb: \")\n",
        "  print(f\"The {adjective} {noun} {verb}.\")\n",
        "\n",
        "if __name__ == \"__main__\":\n",
        "  fun_sentence()"
      ],
      "metadata": {
        "colab": {
          "base_uri": "https://localhost:8080/"
        },
        "id": "W75rA6Iz3Q_4",
        "outputId": "20e433e7-8f83-4ede-d4ed-4914bdcbab5b"
      },
      "execution_count": null,
      "outputs": [
        {
          "output_type": "stream",
          "name": "stdout",
          "text": [
            "This program prints a fun sentence!\n",
            "Enter an adjective: clever\n",
            "Enter a noun: fox\n",
            "Enter a verb: runs fast\n",
            "The clever fox runs fast.\n"
          ]
        }
      ]
    }
  ]
}