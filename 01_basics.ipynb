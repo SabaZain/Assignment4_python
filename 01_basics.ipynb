{
  "nbformat": 4,
  "nbformat_minor": 0,
  "metadata": {
    "colab": {
      "provenance": [],
      "authorship_tag": "ABX9TyOZhhdPO4tuq02c2xb8fC0O",
      "include_colab_link": true
    },
    "kernelspec": {
      "name": "python3",
      "display_name": "Python 3"
    },
    "language_info": {
      "name": "python"
    }
  },
  "cells": [
    {
      "cell_type": "markdown",
      "metadata": {
        "id": "view-in-github",
        "colab_type": "text"
      },
      "source": [
        "<a href=\"https://colab.research.google.com/github/SabaZain/Assignment4_python/blob/master/01_basics.ipynb\" target=\"_parent\"><img src=\"https://colab.research.google.com/assets/colab-badge.svg\" alt=\"Open In Colab\"/></a>"
      ]
    },
    {
      "cell_type": "code",
      "execution_count": 4,
      "metadata": {
        "colab": {
          "base_uri": "https://localhost:8080/"
        },
        "id": "CiWreN3V6GT8",
        "outputId": "ffa7513b-6cd5-43ce-e940-743a0ed43089"
      },
      "outputs": [
        {
          "output_type": "stream",
          "name": "stdout",
          "text": [
            "What do you want?joke\n",
            "Here is a joke for you! Sophia is heading out to the grocery store.A programmer tells her: get a litre of milk, and if they have eggs, get 12.\n",
            "Sophia returns with 13 liters of milk.The programmer asks why and sophia replies: 'because they had eggs'\n"
          ]
        }
      ],
      "source": [
        "# 00_Joke_bot\n",
        "Prompt = \"What do you want?\"\n",
        "Joke = \"\"\"Here is a joke for you! Sophia is heading out to the grocery store.A programmer tells her: get a litre of milk, and if they have eggs, get 12.\n",
        "Sophia returns with 13 liters of milk.The programmer asks why and sophia replies: 'because they had eggs'\"\"\"\n",
        "Sorry = \"Sorry I only tell jokes.\"\n",
        "\n",
        "user_input = input(Prompt)\n",
        "if user_input == \"joke\":\n",
        "    print(Joke)\n",
        "else:\n",
        "    print(Sorry)\n"
      ]
    },
    {
      "cell_type": "code",
      "source": [
        "# 01 Double it\n",
        "number = int(input(\"Enter a number: \"))\n",
        "while number < 100:\n",
        "    number = number * 2\n",
        "    print(number)"
      ],
      "metadata": {
        "colab": {
          "base_uri": "https://localhost:8080/"
        },
        "id": "EL4Vc6QM8ofC",
        "outputId": "d7c0ce30-c20d-49e6-b598-92a60e9f68a9"
      },
      "execution_count": 9,
      "outputs": [
        {
          "output_type": "stream",
          "name": "stdout",
          "text": [
            "Enter a number: 2\n",
            "4\n",
            "8\n",
            "16\n",
            "32\n",
            "64\n",
            "128\n"
          ]
        }
      ]
    },
    {
      "cell_type": "code",
      "source": [
        "# 02 Liftof\n",
        "for i in range(10):\n",
        "  print(10 - i, end=' ')\n",
        "\n",
        "print(\"Liftoff!\")"
      ],
      "metadata": {
        "colab": {
          "base_uri": "https://localhost:8080/"
        },
        "id": "SJbJ7wcH_diM",
        "outputId": "95f15171-4069-4bf1-8fa2-87cf40404a66"
      },
      "execution_count": 11,
      "outputs": [
        {
          "output_type": "stream",
          "name": "stdout",
          "text": [
            "10 9 8 7 6 5 4 3 2 1 Liftoff!\n"
          ]
        }
      ]
    },
    {
      "cell_type": "code",
      "source": [
        "# 03 Guess my number\n",
        "import random\n",
        "print(\"Guess my number between 1 and 100\")\n",
        "\n",
        "def guess_number():\n",
        "  number = random.randint(1, 100)\n",
        "  guess = int(input(\"Enter your guess: \"))\n",
        "  while guess != number:\n",
        "    if guess < number:\n",
        "      print(\"Too low\")\n",
        "    else:\n",
        "      print(\"Too high\")\n",
        "    guess = int(input(\"Enter your guess: \"))\n",
        "  print(\"Correct! The number was: \" + str(number))\n",
        "\n",
        "if __name__ == \"__main__\":\n",
        "  guess_number()\n"
      ],
      "metadata": {
        "colab": {
          "base_uri": "https://localhost:8080/"
        },
        "id": "N0v4sv4zAm5j",
        "outputId": "3ad9746a-6ee6-4cdd-878f-b7bb40cac451"
      },
      "execution_count": 12,
      "outputs": [
        {
          "output_type": "stream",
          "name": "stdout",
          "text": [
            "Guess my number between 1 and 100\n",
            "Enter your guess: 88\n",
            "Too high\n",
            "Enter your guess: 50\n",
            "Too low\n",
            "Enter your guess: 60\n",
            "Too low\n",
            "Enter your guess: 70\n",
            "Too high\n",
            "Enter your guess: 65\n",
            "Too low\n",
            "Enter your guess: 68\n",
            "Too high\n",
            "Enter your guess: 66\n",
            "Correct! The number was: 66\n"
          ]
        }
      ]
    },
    {
      "cell_type": "code",
      "source": [
        "# 04 Random number\n",
        "import random\n",
        "print(\"Random Numbers!\")\n",
        "def main():\n",
        " for i in range(10):\n",
        "  number = random.randint(1, 100)\n",
        "  print(number, end=\" \")\n",
        "if __name__ == \"__main__\":\n",
        "  main()"
      ],
      "metadata": {
        "colab": {
          "base_uri": "https://localhost:8080/"
        },
        "id": "NASjmUfkBuZT",
        "outputId": "595f9f49-1c95-4a9b-d568-7fa8ee2aa1ec"
      },
      "execution_count": 17,
      "outputs": [
        {
          "output_type": "stream",
          "name": "stdout",
          "text": [
            "Random Numbers!\n",
            "6 15 90 78 39 84 57 66 11 73 "
          ]
        }
      ]
    }
  ]
}