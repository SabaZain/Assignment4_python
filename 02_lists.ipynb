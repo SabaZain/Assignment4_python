{
  "nbformat": 4,
  "nbformat_minor": 0,
  "metadata": {
    "colab": {
      "provenance": [],
      "authorship_tag": "ABX9TyMasu2WxNZ+cwHGFISGXBut",
      "include_colab_link": true
    },
    "kernelspec": {
      "name": "python3",
      "display_name": "Python 3"
    },
    "language_info": {
      "name": "python"
    }
  },
  "cells": [
    {
      "cell_type": "markdown",
      "metadata": {
        "id": "view-in-github",
        "colab_type": "text"
      },
      "source": [
        "<a href=\"https://colab.research.google.com/github/SabaZain/Assignment4_python/blob/master/02_lists.ipynb\" target=\"_parent\"><img src=\"https://colab.research.google.com/assets/colab-badge.svg\" alt=\"Open In Colab\"/></a>"
      ]
    },
    {
      "cell_type": "code",
      "execution_count": null,
      "metadata": {
        "colab": {
          "base_uri": "https://localhost:8080/"
        },
        "id": "jZLYX_ozzDpP",
        "outputId": "e1286a52-c1b2-468d-a52a-4bf2d9709bc7"
      },
      "outputs": [
        {
          "output_type": "stream",
          "name": "stdout",
          "text": [
            "Add Numbers!\n",
            "210\n"
          ]
        }
      ],
      "source": [
        "# 1. Function that takes a list of numbers and returns the sum of numbers.\n",
        "\n",
        "print(\"Add Numbers!\")\n",
        "\n",
        "def add_numbers(numbers) -> int:\n",
        "  num:int = 0\n",
        "  for number in numbers:\n",
        "    num += number\n",
        "  return num\n",
        "\n",
        "def main():\n",
        "  numbers:list = [10,20,30,40,50,60]\n",
        "  sum:int = add_numbers(numbers)\n",
        "  print(sum)\n",
        "\n",
        "if __name__ == \"__main__\":\n",
        "  main()"
      ]
    },
    {
      "cell_type": "code",
      "source": [
        "# 2. Program that doubles each element in a list of numbers.\n",
        "print(\"List of Doubled Numbers!\")\n",
        "def double_numbers():\n",
        "  numbers:list = [4,5,6,7,8,9]\n",
        "  for i in range(len(numbers)):\n",
        "    index = numbers[i]\n",
        "    numbers[i] = index * 2\n",
        "  print(\"Doubled Numbers:\", numbers)\n",
        "\n",
        "if __name__ == \"__main__\":\n",
        "  double_numbers()"
      ],
      "metadata": {
        "colab": {
          "base_uri": "https://localhost:8080/"
        },
        "id": "yPXS8aGH1TWK",
        "outputId": "632a87d8-e1e1-4adc-982f-284503a25e26"
      },
      "execution_count": null,
      "outputs": [
        {
          "output_type": "stream",
          "name": "stdout",
          "text": [
            "List of Doubled Numbers!\n",
            "Doubled Numbers: [8, 10, 12, 14, 16, 18]\n"
          ]
        }
      ]
    },
    {
      "cell_type": "code",
      "source": [
        "# 4. Flowing_with_data_structure\n",
        "print(\"Copied List!\")\n",
        "def copied_list(my_list, data):\n",
        "  for i in range(3):\n",
        "    my_list.append(data)\n",
        "\n",
        "def main():\n",
        "  elements = input(\"Enter an element/any message to copy: \")\n",
        "  my_list = []\n",
        "  print(\"Empty list:\", my_list)\n",
        "  copied_list(my_list, elements)\n",
        "  print(\"Copied list:\", my_list)\n",
        "\n",
        "if __name__ == \"__main__\":\n",
        "  main()"
      ],
      "metadata": {
        "colab": {
          "base_uri": "https://localhost:8080/"
        },
        "id": "AWuWX-il2-dB",
        "outputId": "229efaa9-78d9-4d60-87d9-a58a7c611f32"
      },
      "execution_count": null,
      "outputs": [
        {
          "output_type": "stream",
          "name": "stdout",
          "text": [
            "Copied List!\n",
            "Enter an element/any message to copy: Learn Python deeply!\n",
            "Empty list: []\n",
            "Copied list: ['Learn Python deeply!', 'Learn Python deeply!', 'Learn Python deeply!']\n"
          ]
        }
      ]
    },
    {
      "cell_type": "code",
      "source": [
        "# 5. Get_first_element\n",
        "print(\"Get first element of the list!\")\n",
        "def first_element_list(my_list):\n",
        "  print(my_list[0])\n",
        "\n",
        "def list():\n",
        "  my_list = []\n",
        "  elements:str = input(\"Enter elements to add to the list:\")\n",
        "  while elements != \"\":\n",
        "    my_list.append(elements)\n",
        "    elements = input(\"Enter elements to add to the list:\")\n",
        "  return my_list\n",
        "\n",
        "def main():\n",
        "  my_list = list()\n",
        "  first_element_list(my_list)\n",
        "\n",
        "if __name__ == \"__main__\":\n",
        "  main()"
      ],
      "metadata": {
        "colab": {
          "base_uri": "https://localhost:8080/"
        },
        "id": "ep033WKF50pZ",
        "outputId": "ae84bc26-b02e-41d5-996b-7c92788fbc79"
      },
      "execution_count": null,
      "outputs": [
        {
          "output_type": "stream",
          "name": "stdout",
          "text": [
            "Get first element of the list!\n",
            "Enter elements to add to the list:A\n",
            "Enter elements to add to the list:B\n",
            "Enter elements to add to the list:C\n",
            "Enter elements to add to the list:D\n",
            "Enter elements to add to the list:E\n",
            "Enter elements to add to the list:\n",
            "A\n"
          ]
        }
      ]
    },
    {
      "cell_type": "code",
      "source": [
        "# 6. Get_last_element\n",
        "print(\"Get last element of the list!\")\n",
        "\n",
        "def last_element_list(my_list):\n",
        "  print(my_list[-1])\n",
        "\n",
        "def main():\n",
        "  my_list = [\"A\",\"B\",\"C\",\"D\",\"E\",\"F\",\"G\",\"H\"]\n",
        "  print(\"My List:\", my_list)\n",
        "  last_element_list(my_list)\n",
        "\n",
        "if __name__ == \"__main__\":\n",
        "  main()"
      ],
      "metadata": {
        "colab": {
          "base_uri": "https://localhost:8080/"
        },
        "id": "acBbX63Q8ydx",
        "outputId": "c21b25df-6c1d-4148-a974-c8aba2512f4c"
      },
      "execution_count": null,
      "outputs": [
        {
          "output_type": "stream",
          "name": "stdout",
          "text": [
            "Get last element of the list!\n",
            "My List: ['A', 'B', 'C', 'D', 'E', 'F', 'G', 'H']\n",
            "H\n"
          ]
        }
      ]
    },
    {
      "cell_type": "code",
      "source": [
        "# 7. Get_list\n",
        "print(\"Get List!\")\n",
        "def get_list():\n",
        "  my_list = []\n",
        "  elements = input(\"Enter elements to add to the list: \")\n",
        "  while elements:\n",
        "    my_list.append(elements)\n",
        "    elements = input(\"Enter elements to add to the list: \")\n",
        "  print(\"My List:\", my_list)\n",
        "\n",
        "if __name__ == \"__main__\":\n",
        "  get_list()"
      ],
      "metadata": {
        "colab": {
          "base_uri": "https://localhost:8080/"
        },
        "id": "wT8zFO-s_O4y",
        "outputId": "e8438bfd-456b-4fa6-e9e9-57cd3aebdde4"
      },
      "execution_count": null,
      "outputs": [
        {
          "output_type": "stream",
          "name": "stdout",
          "text": [
            "Get List!\n",
            "Enter elements to add to the list: Hello\n",
            "Enter elements to add to the list: World\n",
            "Enter elements to add to the list: Welcome\n",
            "Enter elements to add to the list: Python\n",
            "Enter elements to add to the list: Class\n",
            "Enter elements to add to the list: \n",
            "My List: ['Hello', 'World', 'Welcome', 'Python', 'Class']\n"
          ]
        }
      ]
    },
    {
      "cell_type": "code",
      "source": [
        "# 8. Shorten\n",
        "max_length:int = 3\n",
        "def shorten(my_list):\n",
        "  while len(my_list) > max_length:\n",
        "    last_element = my_list.pop()\n",
        "    print(\"Last element:\", last_element)\n",
        "def get_last():\n",
        "  my_list = []\n",
        "  elements = input(\"Enter elements to add to the list:\")\n",
        "  while elements != \"\":\n",
        "    my_list.append(elements)\n",
        "    elements = input(\"Enter elements to add to the list:\")\n",
        "  return my_list\n",
        "\n",
        "def main():\n",
        "  my_list = get_last()\n",
        "  shorten(my_list)\n",
        "\n",
        "if __name__ == \"__main__\":\n",
        "  main()"
      ],
      "metadata": {
        "colab": {
          "base_uri": "https://localhost:8080/"
        },
        "id": "R2E_ihpkCNjq",
        "outputId": "1d97d09e-c48e-4b46-d15a-d2be35728aef"
      },
      "execution_count": null,
      "outputs": [
        {
          "name": "stdout",
          "output_type": "stream",
          "text": [
            "Enter elements to add to the list:Saba\n",
            "Enter elements to add to the list:Sana\n",
            "Enter elements to add to the list:\n"
          ]
        }
      ]
    }
  ]
}