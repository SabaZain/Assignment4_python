{
  "nbformat": 4,
  "nbformat_minor": 0,
  "metadata": {
    "colab": {
      "provenance": [],
      "authorship_tag": "ABX9TyPKvBiOR2sY9lmBDYhoIkNn",
      "include_colab_link": true
    },
    "kernelspec": {
      "name": "python3",
      "display_name": "Python 3"
    },
    "language_info": {
      "name": "python"
    }
  },
  "cells": [
    {
      "cell_type": "markdown",
      "metadata": {
        "id": "view-in-github",
        "colab_type": "text"
      },
      "source": [
        "<a href=\"https://colab.research.google.com/github/SabaZain/Assignment4_python/blob/master/Hangmangame_python.ipynb\" target=\"_parent\"><img src=\"https://colab.research.google.com/assets/colab-badge.svg\" alt=\"Open In Colab\"/></a>"
      ]
    },
    {
      "cell_type": "code",
      "execution_count": null,
      "metadata": {
        "colab": {
          "base_uri": "https://localhost:8080/"
        },
        "id": "fAracIuxuIPg",
        "outputId": "924123ce-c0a0-4671-de95-cbb587a41d91"
      },
      "outputs": [
        {
          "output_type": "stream",
          "name": "stdout",
          "text": [
            "Welcome to Hangman Game Project In Python By Saba Ali Zain\n",
            "_ _ _ _ _ _ _ _ \n",
            "\n",
            "Guess a letter: a\n",
            "Wrong guess! You have 5 attempts left.\n",
            "_ _ _ _ _ _ _ _\n",
            "\n",
            "Guess a letter: e\n",
            "Correct guess! \n",
            "_ _ _ e _ _ _ _\n",
            "\n",
            "Guess a letter: t\n",
            "Correct guess! \n",
            "_ _ t e _ _ _ _\n",
            "\n",
            "Guess a letter: r\n",
            "Wrong guess! You have 4 attempts left.\n",
            "_ _ t e _ _ _ _\n",
            "\n",
            "Guess a letter: a\n",
            "You have already guessed that letter.Choose another letter!\n",
            "\n",
            "Guess a letter: c\n",
            "Wrong guess! You have 3 attempts left.\n",
            "_ _ t e _ _ _ _\n",
            "\n",
            "Guess a letter: n\n",
            "Correct guess! \n",
            "n _ t e _ _ _ _\n",
            "\n",
            "Guess a letter: o\n",
            "Correct guess! \n",
            "n o t e _ o o _\n",
            "\n",
            "Guess a letter: b\n",
            "Correct guess! \n",
            "n o t e b o o _\n",
            "\n",
            "Guess a letter: k\n",
            "Correct guess! \n",
            "n o t e b o o k\n",
            "Congratulations! You have guessed the word: notebook\n"
          ]
        }
      ],
      "source": [
        "# Hangman Game Project In Python\n",
        "\n",
        "import random\n",
        "words = ['Computer', 'Python', 'Mobile', 'Laptop', 'Tablet', 'Notebook']\n",
        "\n",
        "word = random.choice(words).lower()\n",
        "guessed_letters = []\n",
        "attempts = 6\n",
        "\n",
        "print(\"Welcome to Hangman Game Project In Python By Saba Ali Zain\")\n",
        "print(\"_ \" * len(word))\n",
        "\n",
        "while attempts > 0:\n",
        "    guess = input(\"\\nGuess a letter: \").lower()\n",
        "\n",
        "    if len(guess) != 1 or not guess.isalpha():\n",
        "        print(\"Please enter only one letter at a time!\")\n",
        "        continue\n",
        "\n",
        "    if guess in guessed_letters:\n",
        "        print(\"You have already guessed that letter.Choose another letter!\")\n",
        "        continue\n",
        "\n",
        "    guessed_letters.append(guess)\n",
        "\n",
        "    if guess in word:\n",
        "        print(\"Correct guess! \")\n",
        "    else:\n",
        "        attempts -= 1\n",
        "        print(f\"Wrong guess! You have {attempts} attempts left.\")\n",
        "\n",
        "    displayed_word = \" \".join([letter if letter in guessed_letters else \"_\" for letter in word])\n",
        "    print(displayed_word)\n",
        "\n",
        "    if \"_\" not in displayed_word:\n",
        "        print(f\"Congratulations! You have guessed the word: {word}\")\n",
        "        break\n",
        "else:\n",
        "    print(f\"Game Over! The correct word was: {word}\")\n",
        "\n",
        "\n"
      ]
    }
  ]
}