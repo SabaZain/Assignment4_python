{
  "nbformat": 4,
  "nbformat_minor": 0,
  "metadata": {
    "colab": {
      "provenance": [],
      "authorship_tag": "ABX9TyPT/kUbaVB36qrtfTcQp/74",
      "include_colab_link": true
    },
    "kernelspec": {
      "name": "python3",
      "display_name": "Python 3"
    },
    "language_info": {
      "name": "python"
    }
  },
  "cells": [
    {
      "cell_type": "markdown",
      "metadata": {
        "id": "view-in-github",
        "colab_type": "text"
      },
      "source": [
        "<a href=\"https://colab.research.google.com/github/SabaZain/Assignment4_python/blob/master/05_loops_controlflow.ipynb\" target=\"_parent\"><img src=\"https://colab.research.google.com/assets/colab-badge.svg\" alt=\"Open In Colab\"/></a>"
      ]
    },
    {
      "cell_type": "code",
      "execution_count": null,
      "metadata": {
        "colab": {
          "base_uri": "https://localhost:8080/"
        },
        "id": "hs75FM7auPMB",
        "outputId": "4b55835e-60c4-42e9-8c80-d3ffd9c21fa8"
      },
      "outputs": [
        {
          "output_type": "stream",
          "name": "stdout",
          "text": [
            "Guess Number!\n",
            "I'm thinking of a number between 1 and 99.\n",
            "Take a guess: 30\n",
            "Too high! Guess again.\n",
            "\n",
            "Take another guess: 20\n",
            "Too low! Guess again.\n",
            "\n",
            "Take another guess: 25\n",
            "Congratulations! You guessed the correct number.The number was: 25\n"
          ]
        }
      ],
      "source": [
        "# 1. Guess My Number\n",
        "import random\n",
        "\n",
        "print(\"Guess Number!\")\n",
        "def guess_number():\n",
        "  secret_number = random.randint(1, 99)\n",
        "  print(\"I'm thinking of a number between 1 and 99.\")\n",
        "\n",
        "  # user's guess\n",
        "  guess = int(input(\"Take a guess: \"))\n",
        "  while guess != secret_number:\n",
        "    if guess < secret_number:\n",
        "      print(\"Too low! Guess again.\")\n",
        "    else:\n",
        "      print(\"Too high! Guess again.\")\n",
        "    print()\n",
        "    guess = int(input(\"Take another guess: \"))\n",
        "  print(\"Congratulations! You guessed the correct number.The number was: \" + str(secret_number))\n",
        "\n",
        "if __name__ == \"__main__\":\n",
        "  guess_number()"
      ]
    },
    {
      "cell_type": "code",
      "source": [
        "# 2. Fibonacci\n",
        "print(\"Fibonacci Sequence\")\n",
        "max_term_value:int = 10000\n",
        "def main():\n",
        "  current_term:int = 0\n",
        "  next_term:int = 1\n",
        "  while current_term < max_term_value:\n",
        "    print(current_term)\n",
        "    current_term, next_term = next_term, current_term + next_term\n",
        "\n",
        "if __name__ == \"__main__\":\n",
        "  main()"
      ],
      "metadata": {
        "colab": {
          "base_uri": "https://localhost:8080/"
        },
        "id": "NqdFnRmCwoS-",
        "outputId": "e1c3820f-a709-4e7b-d227-718a8fac2ff0"
      },
      "execution_count": null,
      "outputs": [
        {
          "output_type": "stream",
          "name": "stdout",
          "text": [
            "Fibonacci Sequence\n",
            "0\n",
            "1\n",
            "1\n",
            "2\n",
            "3\n",
            "5\n",
            "8\n",
            "13\n",
            "21\n",
            "34\n",
            "55\n",
            "89\n",
            "144\n",
            "233\n",
            "377\n",
            "610\n",
            "987\n",
            "1597\n",
            "2584\n",
            "4181\n",
            "6765\n"
          ]
        }
      ]
    },
    {
      "cell_type": "code",
      "source": [
        "# 3. Python program that prints the first 20 even numbers.\n",
        "print(\"Even Numbers!\")\n",
        "def even_numbers():\n",
        "  for i in range(20):\n",
        "    print(i * 2)\n",
        "\n",
        "if __name__ == \"__main__\":\n",
        "  even_numbers()"
      ],
      "metadata": {
        "colab": {
          "base_uri": "https://localhost:8080/"
        },
        "id": "A-BZCqkKyPnX",
        "outputId": "d9c7fe86-6767-40bb-deb9-f973b4f5e129"
      },
      "execution_count": null,
      "outputs": [
        {
          "output_type": "stream",
          "name": "stdout",
          "text": [
            "Even Numbers!\n",
            "0\n",
            "2\n",
            "4\n",
            "6\n",
            "8\n",
            "10\n",
            "12\n",
            "14\n",
            "16\n",
            "18\n",
            "20\n",
            "22\n",
            "24\n",
            "26\n",
            "28\n",
            "30\n",
            "32\n",
            "34\n",
            "36\n",
            "38\n"
          ]
        }
      ]
    },
    {
      "cell_type": "code",
      "source": [
        "# 4. Wholesome_machine\n",
        "\n",
        "affirmation:str = \"I trust myself and my abilities.\"\n",
        "\n",
        "def wholesome_machine():\n",
        "  print(\"Please type the following affirmation: \" + affirmation)\n",
        "\n",
        "  user_feedback = input()\n",
        "  while user_feedback != affirmation:\n",
        "    print(\"That was not the affirmation.\")\n",
        "    print(\"Please type the following affirmation: \" + affirmation)\n",
        "    user_feedback = input()\n",
        "  print(\"That's right. Thank you!\")\n",
        "\n",
        "if __name__ == \"__main__\":\n",
        "  wholesome_machine()"
      ],
      "metadata": {
        "colab": {
          "base_uri": "https://localhost:8080/"
        },
        "id": "E9oDeBW_1CSo",
        "outputId": "21ce2efb-37ca-4a5e-bb6f-376ef30293f9"
      },
      "execution_count": null,
      "outputs": [
        {
          "output_type": "stream",
          "name": "stdout",
          "text": [
            "Please type the following affirmation: I trust myself and my abilities.\n",
            "I trust myself and my abilities.\n",
            "That's right. Thank you!\n"
          ]
        }
      ]
    },
    {
      "cell_type": "code",
      "source": [
        "# 5. Liftoff\n",
        "print(\"Countdown from 10 to 1.\")\n",
        "for i in range(10, 0, -1):\n",
        "  print(i, end=\" \")\n",
        "print(\"Liftoff!\")"
      ],
      "metadata": {
        "colab": {
          "base_uri": "https://localhost:8080/"
        },
        "id": "bL-LwNeB7aWx",
        "outputId": "1999be94-b1fc-47b3-f360-fc4b125ced19"
      },
      "execution_count": null,
      "outputs": [
        {
          "output_type": "stream",
          "name": "stdout",
          "text": [
            "Countdown from 10 to 1.\n",
            "10 9 8 7 6 5 4 3 2 1 Liftoff!\n"
          ]
        }
      ]
    },
    {
      "cell_type": "code",
      "source": [
        "# 6. Double the number\n",
        "print(\"Double the number!\")\n",
        "def double_the_number():\n",
        "  number = int(input(\"Enter a number: \"))\n",
        "  while number < 100:\n",
        "    number = number * 2\n",
        "    print(number, end = \" \")\n",
        "  print()\n",
        "\n",
        "if __name__ == \"__main__\":\n",
        "  double_the_number()\n"
      ],
      "metadata": {
        "colab": {
          "base_uri": "https://localhost:8080/"
        },
        "id": "-4U8dKQj-g3O",
        "outputId": "6ae5b25b-6b2d-4d90-8499-78901a0e2683"
      },
      "execution_count": null,
      "outputs": [
        {
          "output_type": "stream",
          "name": "stdout",
          "text": [
            "Double the number!\n",
            "Enter a number: 2\n",
            "4 8 16 32 64 128 \n"
          ]
        }
      ]
    }
  ]
}