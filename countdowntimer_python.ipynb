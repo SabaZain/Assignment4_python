{
  "nbformat": 4,
  "nbformat_minor": 0,
  "metadata": {
    "colab": {
      "provenance": [],
      "authorship_tag": "ABX9TyOYVHjHbQ9szIcwMHceRS10",
      "include_colab_link": true
    },
    "kernelspec": {
      "name": "python3",
      "display_name": "Python 3"
    },
    "language_info": {
      "name": "python"
    }
  },
  "cells": [
    {
      "cell_type": "markdown",
      "metadata": {
        "id": "view-in-github",
        "colab_type": "text"
      },
      "source": [
        "<a href=\"https://colab.research.google.com/github/SabaZain/Assignment4_python/blob/master/countdowntimer_python.ipynb\" target=\"_parent\"><img src=\"https://colab.research.google.com/assets/colab-badge.svg\" alt=\"Open In Colab\"/></a>"
      ]
    },
    {
      "cell_type": "code",
      "execution_count": 3,
      "metadata": {
        "colab": {
          "base_uri": "https://localhost:8080/"
        },
        "id": "JzQmlPdsxJ9w",
        "outputId": "b6498265-f4cc-4358-9378-f148cb5c7269"
      },
      "outputs": [
        {
          "output_type": "stream",
          "name": "stdout",
          "text": [
            "-----Welcome to count down timer-----\n",
            "Enter time in seconds for countdown: 30\n",
            "00:00 \n",
            " Time's finished!\n"
          ]
        }
      ],
      "source": [
        "# Count Down Timer Project In Python\n",
        "\n",
        "import time\n",
        "def countdown_timer(seconds):\n",
        "    while seconds > 0:\n",
        "        mins, secs = divmod(seconds, 60)\n",
        "        time_format = '{:02d}:{:02d}'.format(mins, secs)\n",
        "        print(time_format, end='\\r')\n",
        "        time.sleep(1)\n",
        "        seconds -= 1\n",
        "    print(\"00:00 \\n Time's finished!\")\n",
        "\n",
        "# user input for timer\n",
        "print(\"-----Welcome to count down timer-----\")\n",
        "total_seconds = int(input(\"Enter time in seconds for countdown: \"))\n",
        "countdown_timer(total_seconds)\n"
      ]
    }
  ]
}