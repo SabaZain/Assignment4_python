{
  "nbformat": 4,
  "nbformat_minor": 0,
  "metadata": {
    "colab": {
      "provenance": [],
      "authorship_tag": "ABX9TyO/I40X+iZ8iFehqlwqFVpx",
      "include_colab_link": true
    },
    "kernelspec": {
      "name": "python3",
      "display_name": "Python 3"
    },
    "language_info": {
      "name": "python"
    }
  },
  "cells": [
    {
      "cell_type": "markdown",
      "metadata": {
        "id": "view-in-github",
        "colab_type": "text"
      },
      "source": [
        "<a href=\"https://colab.research.google.com/github/SabaZain/Assignment4_python/blob/master/Rockpaperscissorsgame_python.ipynb\" target=\"_parent\"><img src=\"https://colab.research.google.com/assets/colab-badge.svg\" alt=\"Open In Colab\"/></a>"
      ]
    },
    {
      "cell_type": "code",
      "execution_count": null,
      "metadata": {
        "id": "f7mPDDiCvoV_",
        "colab": {
          "base_uri": "https://localhost:8080/"
        },
        "outputId": "bee6af66-e845-45eb-a74e-35a26d714823"
      },
      "outputs": [
        {
          "output_type": "stream",
          "name": "stdout",
          "text": [
            "Welcome To The 🗿Rock, 📄Paper, ✂️Scissors Game By Saba Ali Zain🚀\n",
            "Enter rock, paper, or scissors: paper\n",
            "Player wins! 🥁👏 paper beats rock.\n"
          ]
        }
      ],
      "source": [
        "# Rock, Paper, Scissors Game In Python\n",
        "\n",
        "import random\n",
        "\n",
        "# Welcome Message\n",
        "print(\"Welcome To The 🗿Rock, 📄Paper, ✂️Scissors Game By Saba Ali Zain🚀\")\n",
        "\n",
        "# Game Choices\n",
        "choices = [\"rock\", \"paper\", \"scissors\"]\n",
        "\n",
        "# Player Choice\n",
        "player_choice = input(\"Enter rock, paper, or scissors: \")\n",
        "\n",
        "# Computer Choice\n",
        "computer_choice = random.choice(choices)\n",
        "\n",
        "# Winner Decision\n",
        "if player_choice == computer_choice:\n",
        "    print(f\"Both choices are same {player_choice}. Its a tie 🙆🎊\")\n",
        "elif player_choice == \"rock\" and computer_choice == \"scissors\":\n",
        "    print(f\"Player Wins! 🥁👏 {player_choice} beats {computer_choice}.\")\n",
        "elif player_choice == \"paper\" and computer_choice == \"rock\":\n",
        "    print(f\"Player wins! 🥁👏 {player_choice} beats {computer_choice}.\")\n",
        "elif player_choice == \"scissors\" and computer_choice == \"paper\":\n",
        "    print(f\"Player wins! 🥁👏 {player_choice} beats {computer_choice}.\")\n",
        "else:\n",
        "    print(f\"Computer Wins! 🖥️ {computer_choice} beats {player_choice}.\")"
      ]
    }
  ]
}