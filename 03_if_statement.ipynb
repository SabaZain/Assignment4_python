{
  "nbformat": 4,
  "nbformat_minor": 0,
  "metadata": {
    "colab": {
      "provenance": [],
      "authorship_tag": "ABX9TyNVRpABJVdmHuSXKSacN2q8",
      "include_colab_link": true
    },
    "kernelspec": {
      "name": "python3",
      "display_name": "Python 3"
    },
    "language_info": {
      "name": "python"
    }
  },
  "cells": [
    {
      "cell_type": "markdown",
      "metadata": {
        "id": "view-in-github",
        "colab_type": "text"
      },
      "source": [
        "<a href=\"https://colab.research.google.com/github/SabaZain/Assignment4_python/blob/master/03_if_statement.ipynb\" target=\"_parent\"><img src=\"https://colab.research.google.com/assets/colab-badge.svg\" alt=\"Open In Colab\"/></a>"
      ]
    },
    {
      "cell_type": "code",
      "execution_count": null,
      "metadata": {
        "colab": {
          "base_uri": "https://localhost:8080/"
        },
        "id": "4K3gTffgOW6A",
        "outputId": "442ee074-8582-4bef-f031-e16a589982d2"
      },
      "outputs": [
        {
          "output_type": "stream",
          "name": "stdout",
          "text": [
            "Print events!\n",
            "Even Numbers: 0\n",
            "Even Numbers: 2\n",
            "Even Numbers: 4\n",
            "Even Numbers: 6\n",
            "Even Numbers: 8\n",
            "Even Numbers: 10\n",
            "Even Numbers: 12\n",
            "Even Numbers: 14\n",
            "Even Numbers: 16\n",
            "Even Numbers: 18\n",
            "Even Numbers: 20\n",
            "Even Numbers: 22\n",
            "Even Numbers: 24\n",
            "Even Numbers: 26\n",
            "Even Numbers: 28\n",
            "Even Numbers: 30\n",
            "Even Numbers: 32\n",
            "Even Numbers: 34\n",
            "Even Numbers: 36\n",
            "Even Numbers: 38\n",
            "Even Numbers: 40\n",
            "Even Numbers: 42\n",
            "Even Numbers: 44\n",
            "Even Numbers: 46\n",
            "Even Numbers: 48\n",
            "Even Numbers: 50\n",
            "Even Numbers: 52\n",
            "Even Numbers: 54\n",
            "Even Numbers: 56\n",
            "Even Numbers: 58\n",
            "Even Numbers: 60\n",
            "Even Numbers: 62\n",
            "Even Numbers: 64\n",
            "Even Numbers: 66\n",
            "Even Numbers: 68\n",
            "Even Numbers: 70\n",
            "Even Numbers: 72\n",
            "Even Numbers: 74\n",
            "Even Numbers: 76\n",
            "Even Numbers: 78\n"
          ]
        }
      ],
      "source": [
        "# 1. Print events - Python program that prints the first 20 even numbers.\n",
        "print(\"Print events!\")\n",
        "\n",
        "def even_numbers():\n",
        "  for i in range(40):\n",
        "    even_numbers = i * 2\n",
        "    print(\"Even Numbers:\", even_numbers)\n",
        "\n",
        "if __name__ == \"__main__\":\n",
        "  even_numbers()\n"
      ]
    },
    {
      "cell_type": "code",
      "source": [
        "# 2. International Voting Age\n",
        "print(\"International Voting System!\")\n",
        "Peturksbouipo:int = 16\n",
        "Stanlau:int = 25\n",
        "Mayengua:int = 48\n",
        "age:int = int(input(\"Enter your age: \"))\n",
        "\n",
        "def main():\n",
        "  if age >= Peturksbouipo:\n",
        "    print(f\"Your age is {age}.You are eligible to vote in Peturksbouipo.\")\n",
        "  else:\n",
        "    print(f\"Your age is {age}.You are not eligible to vote in Peturksbouipo.\")\n",
        "\n",
        "  if age >= Stanlau:\n",
        "    print(f\"Your age is {age}.You are eligible to vote in Stanlau.\")\n",
        "  else:\n",
        "    print(f\"Your age is {age}.You are not eligible to vote in Stanlau.\")\n",
        "\n",
        "  if age >= Mayengua:\n",
        "    print(f\"Your age is {age}.You are eligible to vote in Mayengua.\")\n",
        "  else:\n",
        "    print(f\"Your age is {age}.You are not eligible to vote in Mayengua.\")\n",
        "\n",
        "if __name__ == \"__main__\":\n",
        "  main()\n"
      ],
      "metadata": {
        "colab": {
          "base_uri": "https://localhost:8080/"
        },
        "id": "_M2Vr75pQY36",
        "outputId": "f4fae816-9ede-44d6-c08a-9f3b4e401ac5"
      },
      "execution_count": null,
      "outputs": [
        {
          "output_type": "stream",
          "name": "stdout",
          "text": [
            "International Voting System!\n",
            "Enter your age: 20\n",
            "Your age is 20.You are eligible to vote in Peturksbouipo.\n",
            "Your age is 20.You are not eligible to vote in Stanlau.\n",
            "Your age is 20.You are not eligible to vote in Mayengua.\n"
          ]
        }
      ]
    },
    {
      "cell_type": "code",
      "source": [
        "# 3. Leap Year\n",
        "print(\"Leap Year?\")\n",
        "\n",
        "def leap_year():\n",
        "  year:int = int(input(\"Enter a year: \"))\n",
        "\n",
        "  if(year % 4 == 0 and year % 100 != 0) or (year % 400 == 0):\n",
        "    print(f\"Yess! {year} is a leap year.\")\n",
        "  else:\n",
        "    print(f\"No! {year} is not a leap year.\")\n",
        "\n",
        "if __name__ == \"__main__\":\n",
        "  leap_year()\n"
      ],
      "metadata": {
        "colab": {
          "base_uri": "https://localhost:8080/"
        },
        "id": "69zVd3OgUF6n",
        "outputId": "a0dc995b-7095-47d7-9bd2-af719cacfb0a"
      },
      "execution_count": null,
      "outputs": [
        {
          "output_type": "stream",
          "name": "stdout",
          "text": [
            "Leap Year?\n",
            "Enter a year: 2025\n",
            "No! 2025 is not a leap year.\n"
          ]
        }
      ]
    },
    {
      "cell_type": "code",
      "source": [
        "# 4. Tall enough to ride\n",
        "print(\"Tall enough to ride?\")\n",
        "\n",
        "min_height:int = 5\n",
        "def tall_enough():\n",
        "  height:float = float(input(f\"Enter your height: \"))\n",
        "  if height >= min_height:\n",
        "    print(f\"Your height is {height}.You are tall enough to ride.\")\n",
        "  else:\n",
        "    print(f\"Your height is {height}.You are not tall enough to ride.\")\n",
        "\n",
        "if __name__ == \"__main__\":\n",
        "  tall_enough()\n"
      ],
      "metadata": {
        "colab": {
          "base_uri": "https://localhost:8080/"
        },
        "id": "bOHZ6-uXXeqp",
        "outputId": "3219c7ee-00c9-4b47-c390-c79a5ca66888"
      },
      "execution_count": null,
      "outputs": [
        {
          "output_type": "stream",
          "name": "stdout",
          "text": [
            "Tall enough to ride?\n",
            "Enter your height: 4.9\n",
            "Your height is 4.9.You are not tall enough to ride.\n"
          ]
        }
      ]
    },
    {
      "cell_type": "code",
      "source": [
        "# 5. Python program that prints 10 random numbers.\n",
        "import random\n",
        "print(\"10 Random Numbers(1 to 500)!\")\n",
        "\n",
        "def random_numbers():\n",
        "  for i in range(10):\n",
        "    numbers:list = random.randint(1, 500)\n",
        "    print(numbers)\n",
        "\n",
        "if __name__ == \"__main__\":\n",
        "  random_numbers()\n"
      ],
      "metadata": {
        "colab": {
          "base_uri": "https://localhost:8080/"
        },
        "id": "C4UVW_F6ZnTK",
        "outputId": "36e74998-af00-4f8d-d651-46eda9302ecd"
      },
      "execution_count": null,
      "outputs": [
        {
          "output_type": "stream",
          "name": "stdout",
          "text": [
            "10 Random Numbers(1 to 500)!\n",
            "178\n",
            "10\n",
            "488\n",
            "403\n",
            "469\n",
            "427\n",
            "322\n",
            "200\n",
            "281\n",
            "31\n"
          ]
        }
      ]
    }
  ]
}