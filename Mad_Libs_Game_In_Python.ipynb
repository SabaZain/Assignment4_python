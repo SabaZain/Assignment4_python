{
  "nbformat": 4,
  "nbformat_minor": 0,
  "metadata": {
    "colab": {
      "provenance": [],
      "authorship_tag": "ABX9TyPX/SSdDYblI639K5MAqCwE",
      "include_colab_link": true
    },
    "kernelspec": {
      "name": "python3",
      "display_name": "Python 3"
    },
    "language_info": {
      "name": "python"
    }
  },
  "cells": [
    {
      "cell_type": "markdown",
      "metadata": {
        "id": "view-in-github",
        "colab_type": "text"
      },
      "source": [
        "<a href=\"https://colab.research.google.com/github/SabaZain/Assignment4_python/blob/master/Mad_Libs_Game_In_Python.ipynb\" target=\"_parent\"><img src=\"https://colab.research.google.com/assets/colab-badge.svg\" alt=\"Open In Colab\"/></a>"
      ]
    },
    {
      "cell_type": "code",
      "execution_count": null,
      "metadata": {
        "id": "HfWhT173qt4U"
      },
      "outputs": [],
      "source": []
    },
    {
      "cell_type": "markdown",
      "source": [
        "# **Mad Libs Game In Python**"
      ],
      "metadata": {
        "id": "9CSKTP9gq6-n"
      }
    },
    {
      "cell_type": "code",
      "source": [
        "# Take Input from User\n",
        "name = input(\"Enter the User Name:\")\n",
        "roll_number = input(\"Enter your Roll Number:\")\n",
        "location = input(f\"Enter Location (eg: Governor House):\")\n",
        "completed_quarter = input(\"Enter your Quarter Completed:\")\n",
        "promoted_quarter = input(\"Enter your Promoted Quarter:\")\n",
        "class_day = input(\"Enter your Class Day:\")\n",
        "class_time = input(\"Enter your Class Time:\")\n",
        "teacher_name = input(\"Enter your Teacher Name:\")\n",
        "programming_language = input(\"Enter a Programming Language (eg: html, javascript, typescript, next.js, python):\")\n",
        "\n",
        "\n",
        "# Story Created\n",
        "print(\"\\nHere is my little introduction based on mad libs game!\")\n",
        "print(f\"My name is {name}, holding Roll No: {roll_number}. I am enrolled in an IT Course at the {location}, which is a great opportunity.\")\n",
        "print(f\"I successfully completed Quarter {completed_quarter} and got promoted to Quarter {promoted_quarter}.\")\n",
        "print(f\"My Class will be every {class_day}, and the time will be from {class_time}.\")\n",
        "print(f\"The Programming Language I will be learning in Qarter {promoted_quarter} is {programming_language}.\")\n",
        "print(f\"My Teacher, Sir {teacher_name}, is an excellent and highly knowledgeable instructor.\")\n",
        "print(\"His teaching method is very effective. He makes complex topics easy to understand, and his engaging approach keeps us motivated.\")\n",
        "print(f\"My aim will be in this quarter to learn {programming_language} with full dedication.\")\n",
        "print(\"I am excited for the journey ahead and look forward to learning and growing in this course.\")\n",
        "\n",
        "\n",
        "\n",
        "\n",
        "\n"
      ],
      "metadata": {
        "colab": {
          "base_uri": "https://localhost:8080/"
        },
        "id": "OvPTPLPErZmf",
        "outputId": "8b8fc5fe-fb7c-4f62-a42e-9f5aeaa3b99a"
      },
      "execution_count": null,
      "outputs": [
        {
          "output_type": "stream",
          "name": "stdout",
          "text": [
            "Enter the User Name:Saba Ali Zain\n",
            "Enter your Roll Number:00221864\n",
            "Enter Location (eg: Governor House):Governor House\n",
            "Enter your Quarter Completed:2\n",
            "Enter your Promoted Quarter:3\n",
            "Enter your Class Day:Thursday morning\n",
            "Enter your Class Time:9am - 12pm\n",
            "Enter your Teacher Name:Hamza Alvi\n",
            "Enter a Programming Language (eg: html, javascript, typescript, next.js, python):Python\n",
            "\n",
            "Here is my little introduction based on mad libs game!\n",
            "My name is Saba Ali Zain, holding Roll No: 00221864. I am enrolled in an IT Course at the Governor House, which is a great opportunity.\n",
            "I successfully completed Quarter 2 and got promoted to Quarter 3.\n",
            "My Class will be every Thursday morning, and the time will be from 9am - 12pm.\n",
            "The Programming Language I will be learning in Qarter 3 is Python.\n",
            "My Teacher, Sir Hamza Alvi, is an excellent and highly knowledgeable instructor.\n",
            "His teaching method is very effective. He makes complex topics easy to understand, and his engaging approach keeps us motivated.\n",
            "My aim will be in this quarter to learn Python with full dedication.\n",
            "I am excited for the journey ahead and look forward to learning and growing in this course.\n"
          ]
        }
      ]
    }
  ]
}