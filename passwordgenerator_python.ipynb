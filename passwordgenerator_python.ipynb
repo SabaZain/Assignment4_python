{
  "nbformat": 4,
  "nbformat_minor": 0,
  "metadata": {
    "colab": {
      "provenance": [],
      "authorship_tag": "ABX9TyP1mSQ1IxhJQU9Nfmz53ofC",
      "include_colab_link": true
    },
    "kernelspec": {
      "name": "python3",
      "display_name": "Python 3"
    },
    "language_info": {
      "name": "python"
    }
  },
  "cells": [
    {
      "cell_type": "markdown",
      "metadata": {
        "id": "view-in-github",
        "colab_type": "text"
      },
      "source": [
        "<a href=\"https://colab.research.google.com/github/SabaZain/Assignment4_python/blob/master/passwordgenerator_python.ipynb\" target=\"_parent\"><img src=\"https://colab.research.google.com/assets/colab-badge.svg\" alt=\"Open In Colab\"/></a>"
      ]
    },
    {
      "cell_type": "code",
      "execution_count": 1,
      "metadata": {
        "colab": {
          "base_uri": "https://localhost:8080/"
        },
        "id": "d8iMitbqvhjM",
        "outputId": "f0995cb9-d5de-4151-c5a0-4c2765c722ad"
      },
      "outputs": [
        {
          "output_type": "stream",
          "name": "stdout",
          "text": [
            "---Welcome to Password Generator Project By Saba Ali Zain---\n",
            "Enter the length of your password: 11\n",
            "Your Desired Generated Password: JKkquyY7W2p\n"
          ]
        }
      ],
      "source": [
        "# Password Generator Project In Python\n",
        "\n",
        "import random\n",
        "import string\n",
        "\n",
        "def password_generated(length=12):\n",
        "    characters = string.ascii_letters + string.digits + string.punctuation\n",
        "    password = ''.join(random.choice(characters) for _ in range(length))\n",
        "    return password\n",
        "\n",
        "print(\"---Welcome to Password Generator Project By Saba Ali Zain---\")\n",
        "\n",
        "# user inputs\n",
        "length = int(input(\"Enter the length of your password: \"))\n",
        "\n",
        "password = password_generated(length)\n",
        "print(\"Your Desired Generated Password:\", password)\n"
      ]
    }
  ]
}