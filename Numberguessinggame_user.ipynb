{
  "nbformat": 4,
  "nbformat_minor": 0,
  "metadata": {
    "colab": {
      "provenance": [],
      "authorship_tag": "ABX9TyNxFL/qEaiHefvmvqjlfrsE",
      "include_colab_link": true
    },
    "kernelspec": {
      "name": "python3",
      "display_name": "Python 3"
    },
    "language_info": {
      "name": "python"
    }
  },
  "cells": [
    {
      "cell_type": "markdown",
      "metadata": {
        "id": "view-in-github",
        "colab_type": "text"
      },
      "source": [
        "<a href=\"https://colab.research.google.com/github/SabaZain/Assignment4_python/blob/master/Numberguessinggame_user.ipynb\" target=\"_parent\"><img src=\"https://colab.research.google.com/assets/colab-badge.svg\" alt=\"Open In Colab\"/></a>"
      ]
    },
    {
      "cell_type": "code",
      "execution_count": null,
      "metadata": {
        "colab": {
          "base_uri": "https://localhost:8080/"
        },
        "id": "EjpJZAqXw26O",
        "outputId": "8696560a-8196-49b6-c379-139c5008cc93"
      },
      "outputs": [
        {
          "output_type": "stream",
          "name": "stdout",
          "text": [
            "------Welcome To The Number Guessing Game By User------\n",
            "Enter Your Guess Number(1 to 100): 40\n",
            "Too low number!\n",
            "Enter Your Guess Number(1 to 100): 50\n",
            "Too low number!\n",
            "Enter Your Guess Number(1 to 100): 60\n",
            "Too high number!\n",
            "Enter Your Guess Number(1 to 100): 55\n",
            "Too high number!\n",
            "Enter Your Guess Number(1 to 100): 53\n",
            "Too high number!\n",
            "Enter Your Guess Number(1 to 100): 51\n",
            "Too low number!\n",
            "Enter Your Guess Number(1 to 100): 52\n",
            "Congratulations! You guessed the correct number.\n"
          ]
        }
      ],
      "source": [
        "# Number Guessing Game By User Project In Python\n",
        "\n",
        "import random\n",
        "\n",
        "# Print Welcome Message\n",
        "print(\"------Welcome To The Number Guessing Game By User------\")\n",
        "\n",
        "# Generate Random Number\n",
        "number = random.randint(1, 100)\n",
        "\n",
        "while True:\n",
        "    guess = int(input(\"Enter Your Guess Number(1 to 100): \"))\n",
        "    if guess < number:\n",
        "        print(\"Too low number!\")\n",
        "    elif guess > number:\n",
        "        print(\"Too high number!\")\n",
        "    else:\n",
        "        print(\"Congratulations! You guessed the correct number.\")\n",
        "        break"
      ]
    }
  ]
}