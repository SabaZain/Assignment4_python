{
  "nbformat": 4,
  "nbformat_minor": 0,
  "metadata": {
    "colab": {
      "provenance": [],
      "authorship_tag": "ABX9TyN6ZfO3nvi6WEVegAesgx0O",
      "include_colab_link": true
    },
    "kernelspec": {
      "name": "python3",
      "display_name": "Python 3"
    },
    "language_info": {
      "name": "python"
    }
  },
  "cells": [
    {
      "cell_type": "markdown",
      "metadata": {
        "id": "view-in-github",
        "colab_type": "text"
      },
      "source": [
        "<a href=\"https://colab.research.google.com/github/SabaZain/Assignment4_python/blob/master/00_intro_python.ipynb\" target=\"_parent\"><img src=\"https://colab.research.google.com/assets/colab-badge.svg\" alt=\"Open In Colab\"/></a>"
      ]
    },
    {
      "cell_type": "code",
      "execution_count": null,
      "metadata": {
        "id": "P3VrqNOubLzE",
        "colab": {
          "base_uri": "https://localhost:8080/"
        },
        "outputId": "0952c794-f536-4a9d-ff13-177bb98f7a37"
      },
      "outputs": [
        {
          "output_type": "stream",
          "name": "stdout",
          "text": [
            "This program adds two numbers.Kindly enter your numbers.\n",
            "Enter the first number: 7\n",
            "Enter the second number: 8\n",
            "The total sum of 7 and 8 is 15.\n"
          ]
        }
      ],
      "source": [
        "# 1. Add two numbers - Python program that takes two integer inputs from the user and calculate their sum.\n",
        "\n",
        "def main():\n",
        "  print(\"This program adds two numbers.Kindly enter your numbers.\")\n",
        "  number1 = int(input(\"Enter the first number: \"))\n",
        "  number2 = int(input(\"Enter the second number: \"))\n",
        "  sum = number1 + number2\n",
        "  print(f\"The total sum of {number1} and {number2} is {sum}.\")\n",
        "\n",
        "if __name__ == \"__main__\":\n",
        "  main()\n",
        "\n"
      ]
    },
    {
      "cell_type": "code",
      "source": [
        "# 2. agreement_bot - Python program which asks the user what their favorite animal is, and responds with \"My favorite animal is also _!\".\n",
        "\n",
        "def main():\n",
        "    print(\"This program asks what your favorite animal is.\")\n",
        "    favorite_animal = input(\"What is your favorite animal? \")\n",
        "    print(f\"My favorite animal is also {favorite_animal}.\")\n",
        "\n",
        "if __name__ == \"__main__\":\n",
        "     main()\n"
      ],
      "metadata": {
        "colab": {
          "base_uri": "https://localhost:8080/"
        },
        "id": "Zfo3hz1eC47F",
        "outputId": "3d67d3fd-f341-4437-f32d-f33060b73695"
      },
      "execution_count": null,
      "outputs": [
        {
          "output_type": "stream",
          "name": "stdout",
          "text": [
            "This program asks what your favorite animal is.\n",
            "What is your favorite animal? Cat\n",
            "My favorite animal is also Cat.\n"
          ]
        }
      ]
    },
    {
      "cell_type": "code",
      "source": [
        "# 3. Fahrenheit to Celcius - Python program which prompts the user for a temperature in Fahrenheit(this can be number with decimal places) and outputs\n",
        "#    the temperature converted to Celsius.\n",
        "\n",
        "def main():\n",
        "    print(\"This program converts temperature from Fahrenheit to Celsius.\")\n",
        "    fahrenheit = input(\"Enter the temperature in Fahrenheit: \")\n",
        "    fahrenheit_temp = float(fahrenheit)\n",
        "    celsius_temp = (fahrenheit_temp - 32) * 5/9\n",
        "\n",
        "    print(f\"Temperauture: {fahrenheit_temp} degrees Fahrenheit is equal to {celsius_temp:.2f} degrees Celsius.\")\n",
        "\n",
        "if __name__ == \"__main__\":\n",
        "    main()\n"
      ],
      "metadata": {
        "colab": {
          "base_uri": "https://localhost:8080/"
        },
        "id": "tS5Q_oKcFxP9",
        "outputId": "b5e2a8f8-24ed-41fd-ab75-676ea5418e28"
      },
      "execution_count": null,
      "outputs": [
        {
          "output_type": "stream",
          "name": "stdout",
          "text": [
            "This program converts temperature from Fahrenheit to Celsius.\n",
            "Enter the temperature in Fahrenheit: 60\n",
            "Temperauture: 60.0 degrees Fahrenheit is equal to 15.56 degrees Celsius.\n"
          ]
        }
      ]
    },
    {
      "cell_type": "code",
      "source": [
        "# 4. How old are they? Python program to solve age related riddle.\n",
        "# Anton is 21 years old.\n",
        "# Beth is 6 years older than Anton.\n",
        "# Chen is 20 years older then Beth.\n",
        "# Drew is as old as Chen's age plus Anton's age.\n",
        "# Ethan is the same age as Chen.\n",
        "\n",
        "def main():\n",
        "  Anton:int = 21\n",
        "  Beth:int = Anton + 6\n",
        "  Chen:int = Beth + 20\n",
        "  Drew:int = Chen + Anton\n",
        "  Ethan:int = Chen\n",
        "\n",
        "  print(\"Ages of all the people in the riddle are as follows:\")\n",
        "  print(f\"Anton is {Anton} years old.\")\n",
        "  print(f\"Beth is {Beth} years old.\")\n",
        "  print(f\"Chen is {Chen} years old.\")\n",
        "  print(f\"Drew is {Drew} years old.\")\n",
        "  print(f\"Ethan is {Ethan} years old.\")\n",
        "\n",
        "if __name__ == \"__main__\":\n",
        "  main()"
      ],
      "metadata": {
        "colab": {
          "base_uri": "https://localhost:8080/"
        },
        "id": "qTolCCmlKSVL",
        "outputId": "3902dd61-6d9f-4c4c-a415-24011542faa7"
      },
      "execution_count": null,
      "outputs": [
        {
          "output_type": "stream",
          "name": "stdout",
          "text": [
            "Ages of all the people in the riddle are as follows:\n",
            "Anton is 21 years old.\n",
            "Beth is 27 years old.\n",
            "Chen is 47 years old.\n",
            "Drew is 68 years old.\n",
            "Ethan is 47 years old.\n"
          ]
        }
      ]
    },
    {
      "cell_type": "code",
      "source": [
        "\"\"\" 5. triangle_perimeter - Python program to prompt the user to enter the lengths of each side of triangle and calculate\n",
        "    & print perimeter of triangle.\"\"\"\n",
        "\n",
        "def main():\n",
        "  print(\"This program calculates the perimeter of a triangle.\")\n",
        "  triangle_side1 = input(\"Enter the length of the first side: \")\n",
        "  triangle_side2 = input(\"Enter the length of the second side: \")\n",
        "  triangle_side3 = input(\"Enter the length of the third side: \")\n",
        "  triangle_perimeter = float(triangle_side1) + float(triangle_side2) + float(triangle_side3)\n",
        "  print(f\"Perimeter of trinangle: {triangle_perimeter}\")\n",
        "\n",
        "if __name__ == \"__main__\":\n",
        "  main()\n"
      ],
      "metadata": {
        "colab": {
          "base_uri": "https://localhost:8080/"
        },
        "id": "YQvhtjfJMwKU",
        "outputId": "b0435123-e2dd-4e2e-8213-620f31baeec8"
      },
      "execution_count": null,
      "outputs": [
        {
          "output_type": "stream",
          "name": "stdout",
          "text": [
            "This program calculates the perimeter of a triangle.\n",
            "Enter the length of the first side: 6\n",
            "Enter the length of the second side: 5\n",
            "Enter the length of the third side: 6.2\n",
            "Perimeter of trinangle: 17.2\n"
          ]
        }
      ]
    },
    {
      "cell_type": "code",
      "source": [
        "# 6. Square of number - Python program that asks the user to enter a number and print its square.\n",
        "\n",
        "def main():\n",
        "  print(\"This program asks the user to enter a number and print its square.\")\n",
        "  any_number = input(\"Enter a number: \")\n",
        "  square_number = float(any_number) * float(any_number)\n",
        "  print(f\"Square of {any_number} is {square_number:.2f}.\")\n",
        "\n",
        "if __name__ == \"__main__\":\n",
        " main()"
      ],
      "metadata": {
        "colab": {
          "base_uri": "https://localhost:8080/"
        },
        "id": "YNL5W5pxQSgz",
        "outputId": "99863a7b-2032-4a19-825e-ed63266f0f00"
      },
      "execution_count": null,
      "outputs": [
        {
          "output_type": "stream",
          "name": "stdout",
          "text": [
            "This program asks the user to enter a number and print its square.\n",
            "Enter a number: 8\n",
            "Square of 8 is 64.00.\n"
          ]
        }
      ]
    }
  ]
}